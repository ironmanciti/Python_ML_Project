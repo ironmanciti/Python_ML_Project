{
 "cells": [
  {
   "cell_type": "markdown",
   "id": "diverse-links",
   "metadata": {},
   "source": [
    "# 110. Malware Detection - binary classification"
   ]
  },
  {
   "cell_type": "code",
   "execution_count": 23,
   "id": "respected-property",
   "metadata": {},
   "outputs": [
    {
     "data": {
      "text/html": [
       "<div>\n",
       "<style scoped>\n",
       "    .dataframe tbody tr th:only-of-type {\n",
       "        vertical-align: middle;\n",
       "    }\n",
       "\n",
       "    .dataframe tbody tr th {\n",
       "        vertical-align: top;\n",
       "    }\n",
       "\n",
       "    .dataframe thead th {\n",
       "        text-align: right;\n",
       "    }\n",
       "</style>\n",
       "<table border=\"1\" class=\"dataframe\">\n",
       "  <thead>\n",
       "    <tr style=\"text-align: right;\">\n",
       "      <th></th>\n",
       "      <th>Name</th>\n",
       "      <th>md5</th>\n",
       "      <th>Machine</th>\n",
       "      <th>SizeOfOptionalHeader</th>\n",
       "      <th>Characteristics</th>\n",
       "      <th>MajorLinkerVersion</th>\n",
       "      <th>MinorLinkerVersion</th>\n",
       "      <th>SizeOfCode</th>\n",
       "      <th>SizeOfInitializedData</th>\n",
       "      <th>SizeOfUninitializedData</th>\n",
       "      <th>...</th>\n",
       "      <th>ResourcesNb</th>\n",
       "      <th>ResourcesMeanEntropy</th>\n",
       "      <th>ResourcesMinEntropy</th>\n",
       "      <th>ResourcesMaxEntropy</th>\n",
       "      <th>ResourcesMeanSize</th>\n",
       "      <th>ResourcesMinSize</th>\n",
       "      <th>ResourcesMaxSize</th>\n",
       "      <th>LoadConfigurationSize</th>\n",
       "      <th>VersionInformationSize</th>\n",
       "      <th>legitimate</th>\n",
       "    </tr>\n",
       "  </thead>\n",
       "  <tbody>\n",
       "    <tr>\n",
       "      <th>65416</th>\n",
       "      <td>VirusShare_3ede9b62781398a2e39a0f6af9356a54</td>\n",
       "      <td>3ede9b62781398a2e39a0f6af9356a54</td>\n",
       "      <td>332</td>\n",
       "      <td>224</td>\n",
       "      <td>258</td>\n",
       "      <td>10</td>\n",
       "      <td>0</td>\n",
       "      <td>117760</td>\n",
       "      <td>392192</td>\n",
       "      <td>0</td>\n",
       "      <td>...</td>\n",
       "      <td>5</td>\n",
       "      <td>3.425849</td>\n",
       "      <td>2.458492</td>\n",
       "      <td>4.035538</td>\n",
       "      <td>3146.400000</td>\n",
       "      <td>48</td>\n",
       "      <td>9640</td>\n",
       "      <td>72</td>\n",
       "      <td>15</td>\n",
       "      <td>0</td>\n",
       "    </tr>\n",
       "    <tr>\n",
       "      <th>23220</th>\n",
       "      <td>fxsocm.dll</td>\n",
       "      <td>9a0959a682d8eba06d0bd181c49ee2a8</td>\n",
       "      <td>332</td>\n",
       "      <td>224</td>\n",
       "      <td>8462</td>\n",
       "      <td>7</td>\n",
       "      <td>10</td>\n",
       "      <td>112640</td>\n",
       "      <td>29696</td>\n",
       "      <td>0</td>\n",
       "      <td>...</td>\n",
       "      <td>8</td>\n",
       "      <td>3.911994</td>\n",
       "      <td>2.669737</td>\n",
       "      <td>5.335373</td>\n",
       "      <td>1222.750000</td>\n",
       "      <td>164</td>\n",
       "      <td>4889</td>\n",
       "      <td>72</td>\n",
       "      <td>16</td>\n",
       "      <td>1</td>\n",
       "    </tr>\n",
       "    <tr>\n",
       "      <th>118017</th>\n",
       "      <td>VirusShare_abe7101746242c922a539ba461db4e38</td>\n",
       "      <td>abe7101746242c922a539ba461db4e38</td>\n",
       "      <td>332</td>\n",
       "      <td>224</td>\n",
       "      <td>258</td>\n",
       "      <td>10</td>\n",
       "      <td>0</td>\n",
       "      <td>119808</td>\n",
       "      <td>385024</td>\n",
       "      <td>0</td>\n",
       "      <td>...</td>\n",
       "      <td>6</td>\n",
       "      <td>3.776760</td>\n",
       "      <td>2.458492</td>\n",
       "      <td>5.317552</td>\n",
       "      <td>2740.166667</td>\n",
       "      <td>48</td>\n",
       "      <td>9640</td>\n",
       "      <td>72</td>\n",
       "      <td>15</td>\n",
       "      <td>0</td>\n",
       "    </tr>\n",
       "    <tr>\n",
       "      <th>69842</th>\n",
       "      <td>VirusShare_64a1247fc96d5bc2994ef89ca09adee8</td>\n",
       "      <td>64a1247fc96d5bc2994ef89ca09adee8</td>\n",
       "      <td>332</td>\n",
       "      <td>224</td>\n",
       "      <td>258</td>\n",
       "      <td>10</td>\n",
       "      <td>0</td>\n",
       "      <td>120320</td>\n",
       "      <td>385024</td>\n",
       "      <td>0</td>\n",
       "      <td>...</td>\n",
       "      <td>6</td>\n",
       "      <td>3.756068</td>\n",
       "      <td>2.458492</td>\n",
       "      <td>5.317552</td>\n",
       "      <td>2739.500000</td>\n",
       "      <td>48</td>\n",
       "      <td>9640</td>\n",
       "      <td>72</td>\n",
       "      <td>15</td>\n",
       "      <td>0</td>\n",
       "    </tr>\n",
       "    <tr>\n",
       "      <th>22165</th>\n",
       "      <td>asferror.dll</td>\n",
       "      <td>ebc23440aa9cc4f08241d35147c1d5b5</td>\n",
       "      <td>332</td>\n",
       "      <td>224</td>\n",
       "      <td>8462</td>\n",
       "      <td>7</td>\n",
       "      <td>10</td>\n",
       "      <td>0</td>\n",
       "      <td>7168</td>\n",
       "      <td>0</td>\n",
       "      <td>...</td>\n",
       "      <td>2</td>\n",
       "      <td>3.488703</td>\n",
       "      <td>3.471506</td>\n",
       "      <td>3.505901</td>\n",
       "      <td>3050.000000</td>\n",
       "      <td>888</td>\n",
       "      <td>5212</td>\n",
       "      <td>0</td>\n",
       "      <td>16</td>\n",
       "      <td>1</td>\n",
       "    </tr>\n",
       "  </tbody>\n",
       "</table>\n",
       "<p>5 rows × 57 columns</p>\n",
       "</div>"
      ],
      "text/plain": [
       "                                               Name  \\\n",
       "65416   VirusShare_3ede9b62781398a2e39a0f6af9356a54   \n",
       "23220                                    fxsocm.dll   \n",
       "118017  VirusShare_abe7101746242c922a539ba461db4e38   \n",
       "69842   VirusShare_64a1247fc96d5bc2994ef89ca09adee8   \n",
       "22165                                  asferror.dll   \n",
       "\n",
       "                                     md5  Machine  SizeOfOptionalHeader  \\\n",
       "65416   3ede9b62781398a2e39a0f6af9356a54      332                   224   \n",
       "23220   9a0959a682d8eba06d0bd181c49ee2a8      332                   224   \n",
       "118017  abe7101746242c922a539ba461db4e38      332                   224   \n",
       "69842   64a1247fc96d5bc2994ef89ca09adee8      332                   224   \n",
       "22165   ebc23440aa9cc4f08241d35147c1d5b5      332                   224   \n",
       "\n",
       "        Characteristics  MajorLinkerVersion  MinorLinkerVersion  SizeOfCode  \\\n",
       "65416               258                  10                   0      117760   \n",
       "23220              8462                   7                  10      112640   \n",
       "118017              258                  10                   0      119808   \n",
       "69842               258                  10                   0      120320   \n",
       "22165              8462                   7                  10           0   \n",
       "\n",
       "        SizeOfInitializedData  SizeOfUninitializedData  ...  ResourcesNb  \\\n",
       "65416                  392192                        0  ...            5   \n",
       "23220                   29696                        0  ...            8   \n",
       "118017                 385024                        0  ...            6   \n",
       "69842                  385024                        0  ...            6   \n",
       "22165                    7168                        0  ...            2   \n",
       "\n",
       "        ResourcesMeanEntropy  ResourcesMinEntropy  ResourcesMaxEntropy  \\\n",
       "65416               3.425849             2.458492             4.035538   \n",
       "23220               3.911994             2.669737             5.335373   \n",
       "118017              3.776760             2.458492             5.317552   \n",
       "69842               3.756068             2.458492             5.317552   \n",
       "22165               3.488703             3.471506             3.505901   \n",
       "\n",
       "        ResourcesMeanSize  ResourcesMinSize  ResourcesMaxSize  \\\n",
       "65416         3146.400000                48              9640   \n",
       "23220         1222.750000               164              4889   \n",
       "118017        2740.166667                48              9640   \n",
       "69842         2739.500000                48              9640   \n",
       "22165         3050.000000               888              5212   \n",
       "\n",
       "        LoadConfigurationSize  VersionInformationSize  legitimate  \n",
       "65416                      72                      15           0  \n",
       "23220                      72                      16           1  \n",
       "118017                     72                      15           0  \n",
       "69842                      72                      15           0  \n",
       "22165                       0                      16           1  \n",
       "\n",
       "[5 rows x 57 columns]"
      ]
     },
     "execution_count": 23,
     "metadata": {},
     "output_type": "execute_result"
    }
   ],
   "source": [
    "import pandas as pd\n",
    "import numpy as np\n",
    "import matplotlib.pyplot as plt\n",
    "import seaborn as sns\n",
    "from sklearn.model_selection import train_test_split\n",
    "from sklearn.preprocessing import StandardScaler\n",
    "from sklearn.metrics import accuracy_score\n",
    "from sklearn.metrics import confusion_matrix\n",
    "\n",
    "import tensorflow as tf\n",
    "from tensorflow.keras.layers import Dense\n",
    "\n",
    "df = pd.read_csv('datasets/malware.csv', index_col=0)\n",
    "df.head()"
   ]
  },
  {
   "cell_type": "code",
   "execution_count": 2,
   "id": "d1ebda95",
   "metadata": {},
   "outputs": [
    {
     "data": {
      "text/plain": [
       "(10000, 57)"
      ]
     },
     "execution_count": 2,
     "metadata": {},
     "output_type": "execute_result"
    }
   ],
   "source": [
    "df.shape"
   ]
  },
  {
   "cell_type": "code",
   "execution_count": 3,
   "id": "elementary-mortality",
   "metadata": {},
   "outputs": [
    {
     "data": {
      "text/html": [
       "<div>\n",
       "<style scoped>\n",
       "    .dataframe tbody tr th:only-of-type {\n",
       "        vertical-align: middle;\n",
       "    }\n",
       "\n",
       "    .dataframe tbody tr th {\n",
       "        vertical-align: top;\n",
       "    }\n",
       "\n",
       "    .dataframe thead th {\n",
       "        text-align: right;\n",
       "    }\n",
       "</style>\n",
       "<table border=\"1\" class=\"dataframe\">\n",
       "  <thead>\n",
       "    <tr style=\"text-align: right;\">\n",
       "      <th></th>\n",
       "      <th>Name</th>\n",
       "      <th>md5</th>\n",
       "      <th>Machine</th>\n",
       "      <th>SizeOfOptionalHeader</th>\n",
       "      <th>Characteristics</th>\n",
       "      <th>MajorLinkerVersion</th>\n",
       "      <th>MinorLinkerVersion</th>\n",
       "      <th>SizeOfCode</th>\n",
       "      <th>SizeOfInitializedData</th>\n",
       "      <th>SizeOfUninitializedData</th>\n",
       "      <th>...</th>\n",
       "      <th>ResourcesNb</th>\n",
       "      <th>ResourcesMeanEntropy</th>\n",
       "      <th>ResourcesMinEntropy</th>\n",
       "      <th>ResourcesMaxEntropy</th>\n",
       "      <th>ResourcesMeanSize</th>\n",
       "      <th>ResourcesMinSize</th>\n",
       "      <th>ResourcesMaxSize</th>\n",
       "      <th>LoadConfigurationSize</th>\n",
       "      <th>VersionInformationSize</th>\n",
       "      <th>legitimate</th>\n",
       "    </tr>\n",
       "  </thead>\n",
       "  <tbody>\n",
       "    <tr>\n",
       "      <th>130617</th>\n",
       "      <td>VirusShare_8e8aff35dc7a3719be3834ba1ab76a37</td>\n",
       "      <td>8e8aff35dc7a3719be3834ba1ab76a37</td>\n",
       "      <td>332</td>\n",
       "      <td>224</td>\n",
       "      <td>258</td>\n",
       "      <td>9</td>\n",
       "      <td>0</td>\n",
       "      <td>102400</td>\n",
       "      <td>599040</td>\n",
       "      <td>0</td>\n",
       "      <td>...</td>\n",
       "      <td>7</td>\n",
       "      <td>4.143516</td>\n",
       "      <td>2.623078</td>\n",
       "      <td>5.916356</td>\n",
       "      <td>81061.000000</td>\n",
       "      <td>62</td>\n",
       "      <td>535040</td>\n",
       "      <td>72</td>\n",
       "      <td>0</td>\n",
       "      <td>0</td>\n",
       "    </tr>\n",
       "    <tr>\n",
       "      <th>42632</th>\n",
       "      <td>VirusShare_c3cff0c2f56839d4b54b9cc33f8ea9ad</td>\n",
       "      <td>c3cff0c2f56839d4b54b9cc33f8ea9ad</td>\n",
       "      <td>332</td>\n",
       "      <td>224</td>\n",
       "      <td>258</td>\n",
       "      <td>10</td>\n",
       "      <td>0</td>\n",
       "      <td>118784</td>\n",
       "      <td>383488</td>\n",
       "      <td>0</td>\n",
       "      <td>...</td>\n",
       "      <td>16</td>\n",
       "      <td>6.378131</td>\n",
       "      <td>2.458492</td>\n",
       "      <td>7.992688</td>\n",
       "      <td>20821.937500</td>\n",
       "      <td>48</td>\n",
       "      <td>33945</td>\n",
       "      <td>72</td>\n",
       "      <td>14</td>\n",
       "      <td>0</td>\n",
       "    </tr>\n",
       "    <tr>\n",
       "      <th>82334</th>\n",
       "      <td>VirusShare_223104e64eb3cfdae9dc7a068a2eb8f4</td>\n",
       "      <td>223104e64eb3cfdae9dc7a068a2eb8f4</td>\n",
       "      <td>332</td>\n",
       "      <td>224</td>\n",
       "      <td>258</td>\n",
       "      <td>10</td>\n",
       "      <td>0</td>\n",
       "      <td>120320</td>\n",
       "      <td>385024</td>\n",
       "      <td>0</td>\n",
       "      <td>...</td>\n",
       "      <td>6</td>\n",
       "      <td>3.756068</td>\n",
       "      <td>2.458492</td>\n",
       "      <td>5.317552</td>\n",
       "      <td>2739.500000</td>\n",
       "      <td>48</td>\n",
       "      <td>9640</td>\n",
       "      <td>72</td>\n",
       "      <td>15</td>\n",
       "      <td>0</td>\n",
       "    </tr>\n",
       "    <tr>\n",
       "      <th>89459</th>\n",
       "      <td>VirusShare_df1a1468dcdf897a84bc9d8d92be449f</td>\n",
       "      <td>df1a1468dcdf897a84bc9d8d92be449f</td>\n",
       "      <td>332</td>\n",
       "      <td>224</td>\n",
       "      <td>258</td>\n",
       "      <td>10</td>\n",
       "      <td>0</td>\n",
       "      <td>118784</td>\n",
       "      <td>381952</td>\n",
       "      <td>0</td>\n",
       "      <td>...</td>\n",
       "      <td>24</td>\n",
       "      <td>6.900106</td>\n",
       "      <td>2.458492</td>\n",
       "      <td>7.990487</td>\n",
       "      <td>13895.833333</td>\n",
       "      <td>48</td>\n",
       "      <td>22648</td>\n",
       "      <td>72</td>\n",
       "      <td>14</td>\n",
       "      <td>0</td>\n",
       "    </tr>\n",
       "    <tr>\n",
       "      <th>72062</th>\n",
       "      <td>VirusShare_dbffdb769f89325d0b0036b92ff55179</td>\n",
       "      <td>dbffdb769f89325d0b0036b92ff55179</td>\n",
       "      <td>332</td>\n",
       "      <td>224</td>\n",
       "      <td>258</td>\n",
       "      <td>8</td>\n",
       "      <td>0</td>\n",
       "      <td>7680</td>\n",
       "      <td>309760</td>\n",
       "      <td>0</td>\n",
       "      <td>...</td>\n",
       "      <td>6</td>\n",
       "      <td>3.501717</td>\n",
       "      <td>2.128508</td>\n",
       "      <td>5.155409</td>\n",
       "      <td>1314.166667</td>\n",
       "      <td>48</td>\n",
       "      <td>3752</td>\n",
       "      <td>0</td>\n",
       "      <td>23</td>\n",
       "      <td>0</td>\n",
       "    </tr>\n",
       "  </tbody>\n",
       "</table>\n",
       "<p>5 rows × 57 columns</p>\n",
       "</div>"
      ],
      "text/plain": [
       "                                               Name  \\\n",
       "130617  VirusShare_8e8aff35dc7a3719be3834ba1ab76a37   \n",
       "42632   VirusShare_c3cff0c2f56839d4b54b9cc33f8ea9ad   \n",
       "82334   VirusShare_223104e64eb3cfdae9dc7a068a2eb8f4   \n",
       "89459   VirusShare_df1a1468dcdf897a84bc9d8d92be449f   \n",
       "72062   VirusShare_dbffdb769f89325d0b0036b92ff55179   \n",
       "\n",
       "                                     md5  Machine  SizeOfOptionalHeader  \\\n",
       "130617  8e8aff35dc7a3719be3834ba1ab76a37      332                   224   \n",
       "42632   c3cff0c2f56839d4b54b9cc33f8ea9ad      332                   224   \n",
       "82334   223104e64eb3cfdae9dc7a068a2eb8f4      332                   224   \n",
       "89459   df1a1468dcdf897a84bc9d8d92be449f      332                   224   \n",
       "72062   dbffdb769f89325d0b0036b92ff55179      332                   224   \n",
       "\n",
       "        Characteristics  MajorLinkerVersion  MinorLinkerVersion  SizeOfCode  \\\n",
       "130617              258                   9                   0      102400   \n",
       "42632               258                  10                   0      118784   \n",
       "82334               258                  10                   0      120320   \n",
       "89459               258                  10                   0      118784   \n",
       "72062               258                   8                   0        7680   \n",
       "\n",
       "        SizeOfInitializedData  SizeOfUninitializedData  ...  ResourcesNb  \\\n",
       "130617                 599040                        0  ...            7   \n",
       "42632                  383488                        0  ...           16   \n",
       "82334                  385024                        0  ...            6   \n",
       "89459                  381952                        0  ...           24   \n",
       "72062                  309760                        0  ...            6   \n",
       "\n",
       "        ResourcesMeanEntropy  ResourcesMinEntropy  ResourcesMaxEntropy  \\\n",
       "130617              4.143516             2.623078             5.916356   \n",
       "42632               6.378131             2.458492             7.992688   \n",
       "82334               3.756068             2.458492             5.317552   \n",
       "89459               6.900106             2.458492             7.990487   \n",
       "72062               3.501717             2.128508             5.155409   \n",
       "\n",
       "        ResourcesMeanSize  ResourcesMinSize  ResourcesMaxSize  \\\n",
       "130617       81061.000000                62            535040   \n",
       "42632        20821.937500                48             33945   \n",
       "82334         2739.500000                48              9640   \n",
       "89459        13895.833333                48             22648   \n",
       "72062         1314.166667                48              3752   \n",
       "\n",
       "        LoadConfigurationSize  VersionInformationSize  legitimate  \n",
       "130617                     72                       0           0  \n",
       "42632                      72                      14           0  \n",
       "82334                      72                      15           0  \n",
       "89459                      72                      14           0  \n",
       "72062                       0                      23           0  \n",
       "\n",
       "[5 rows x 57 columns]"
      ]
     },
     "execution_count": 3,
     "metadata": {},
     "output_type": "execute_result"
    }
   ],
   "source": [
    "df.tail()"
   ]
  },
  {
   "cell_type": "code",
   "execution_count": 4,
   "id": "polished-flush",
   "metadata": {},
   "outputs": [
    {
     "data": {
      "text/plain": [
       "(10000, 57)"
      ]
     },
     "execution_count": 4,
     "metadata": {},
     "output_type": "execute_result"
    }
   ],
   "source": [
    "df.shape"
   ]
  },
  {
   "cell_type": "code",
   "execution_count": 5,
   "id": "differential-south",
   "metadata": {},
   "outputs": [
    {
     "data": {
      "text/plain": [
       "0    7071\n",
       "1    2929\n",
       "Name: legitimate, dtype: int64"
      ]
     },
     "execution_count": 5,
     "metadata": {},
     "output_type": "execute_result"
    }
   ],
   "source": [
    "df['legitimate'].value_counts()"
   ]
  },
  {
   "cell_type": "code",
   "execution_count": 6,
   "id": "civilian-johnson",
   "metadata": {},
   "outputs": [
    {
     "data": {
      "text/plain": [
       "Index(['Name', 'md5', 'Machine', 'SizeOfOptionalHeader', 'Characteristics',\n",
       "       'MajorLinkerVersion', 'MinorLinkerVersion', 'SizeOfCode',\n",
       "       'SizeOfInitializedData', 'SizeOfUninitializedData',\n",
       "       'AddressOfEntryPoint', 'BaseOfCode', 'BaseOfData', 'ImageBase',\n",
       "       'SectionAlignment', 'FileAlignment', 'MajorOperatingSystemVersion',\n",
       "       'MinorOperatingSystemVersion', 'MajorImageVersion', 'MinorImageVersion',\n",
       "       'MajorSubsystemVersion', 'MinorSubsystemVersion', 'SizeOfImage',\n",
       "       'SizeOfHeaders', 'CheckSum', 'Subsystem', 'DllCharacteristics',\n",
       "       'SizeOfStackReserve', 'SizeOfStackCommit', 'SizeOfHeapReserve',\n",
       "       'SizeOfHeapCommit', 'LoaderFlags', 'NumberOfRvaAndSizes', 'SectionsNb',\n",
       "       'SectionsMeanEntropy', 'SectionsMinEntropy', 'SectionsMaxEntropy',\n",
       "       'SectionsMeanRawsize', 'SectionsMinRawsize', 'SectionMaxRawsize',\n",
       "       'SectionsMeanVirtualsize', 'SectionsMinVirtualsize',\n",
       "       'SectionMaxVirtualsize', 'ImportsNbDLL', 'ImportsNb',\n",
       "       'ImportsNbOrdinal', 'ExportNb', 'ResourcesNb', 'ResourcesMeanEntropy',\n",
       "       'ResourcesMinEntropy', 'ResourcesMaxEntropy', 'ResourcesMeanSize',\n",
       "       'ResourcesMinSize', 'ResourcesMaxSize', 'LoadConfigurationSize',\n",
       "       'VersionInformationSize', 'legitimate'],\n",
       "      dtype='object')"
      ]
     },
     "execution_count": 6,
     "metadata": {},
     "output_type": "execute_result"
    }
   ],
   "source": [
    "df.columns"
   ]
  },
  {
   "cell_type": "markdown",
   "id": "casual-snapshot",
   "metadata": {},
   "source": [
    "- Name : 제외\n",
    "- md5 : hash value 제외"
   ]
  },
  {
   "cell_type": "code",
   "execution_count": 7,
   "id": "authentic-nurse",
   "metadata": {},
   "outputs": [],
   "source": [
    "df = df.iloc[:, 2:]"
   ]
  },
  {
   "cell_type": "code",
   "execution_count": 8,
   "id": "single-walker",
   "metadata": {},
   "outputs": [
    {
     "data": {
      "text/plain": [
       "(10000, 55)"
      ]
     },
     "execution_count": 8,
     "metadata": {},
     "output_type": "execute_result"
    }
   ],
   "source": [
    "df.shape"
   ]
  },
  {
   "cell_type": "code",
   "execution_count": 9,
   "id": "unlike-avenue",
   "metadata": {},
   "outputs": [],
   "source": [
    "y = df.pop('legitimate').values\n",
    "X = df.values"
   ]
  },
  {
   "cell_type": "code",
   "execution_count": 10,
   "id": "amino-globe",
   "metadata": {},
   "outputs": [
    {
     "data": {
      "text/plain": [
       "((10000, 54), (10000,))"
      ]
     },
     "execution_count": 10,
     "metadata": {},
     "output_type": "execute_result"
    }
   ],
   "source": [
    "X.shape, y.shape"
   ]
  },
  {
   "cell_type": "code",
   "execution_count": 11,
   "id": "retired-organization",
   "metadata": {},
   "outputs": [
    {
     "data": {
      "text/plain": [
       "((8000, 54), (2000, 54), (8000,), (2000,))"
      ]
     },
     "execution_count": 11,
     "metadata": {},
     "output_type": "execute_result"
    }
   ],
   "source": [
    "X_train, X_test, y_train, y_test = train_test_split(X, y, test_size=0.2, random_state=0)\n",
    "\n",
    "X_train.shape, X_test.shape, y_train.shape, y_test.shape"
   ]
  },
  {
   "cell_type": "code",
   "execution_count": 12,
   "id": "hispanic-platinum",
   "metadata": {},
   "outputs": [],
   "source": [
    "sc = StandardScaler()\n",
    "X_train = sc.fit_transform(X_train)\n",
    "X_test  = sc.transform(X_test)"
   ]
  },
  {
   "cell_type": "code",
   "execution_count": 13,
   "id": "commercial-gilbert",
   "metadata": {},
   "outputs": [],
   "source": [
    "model = tf.keras.Sequential()\n",
    "\n",
    "model.add(Dense(32, input_shape=(54,), activation=\"relu\"))\n",
    "model.add(Dense(16, activation=\"relu\"))\n",
    "model.add(Dense(1, activation=\"sigmoid\"))"
   ]
  },
  {
   "cell_type": "code",
   "execution_count": 14,
   "id": "charitable-flight",
   "metadata": {},
   "outputs": [
    {
     "name": "stdout",
     "output_type": "stream",
     "text": [
      "Model: \"sequential\"\n",
      "_________________________________________________________________\n",
      " Layer (type)                Output Shape              Param #   \n",
      "=================================================================\n",
      " dense (Dense)               (None, 32)                1760      \n",
      "                                                                 \n",
      " dense_1 (Dense)             (None, 16)                528       \n",
      "                                                                 \n",
      " dense_2 (Dense)             (None, 1)                 17        \n",
      "                                                                 \n",
      "=================================================================\n",
      "Total params: 2,305\n",
      "Trainable params: 2,305\n",
      "Non-trainable params: 0\n",
      "_________________________________________________________________\n"
     ]
    }
   ],
   "source": [
    "model.summary()"
   ]
  },
  {
   "cell_type": "code",
   "execution_count": 15,
   "id": "employed-paste",
   "metadata": {},
   "outputs": [],
   "source": [
    "model.compile(loss='binary_crossentropy', optimizer='adam', metrics=[\"accuracy\"])"
   ]
  },
  {
   "cell_type": "code",
   "execution_count": 16,
   "id": "universal-behavior",
   "metadata": {},
   "outputs": [
    {
     "name": "stdout",
     "output_type": "stream",
     "text": [
      "Epoch 1/20\n",
      "250/250 [==============================] - 1s 2ms/step - loss: 0.1975 - accuracy: 0.9325 - val_loss: 0.0710 - val_accuracy: 0.9810\n",
      "Epoch 2/20\n",
      "250/250 [==============================] - 0s 1ms/step - loss: 0.0522 - accuracy: 0.9827 - val_loss: 0.0582 - val_accuracy: 0.9840\n",
      "Epoch 3/20\n",
      "250/250 [==============================] - 0s 2ms/step - loss: 0.0430 - accuracy: 0.9851 - val_loss: 0.0506 - val_accuracy: 0.9840\n",
      "Epoch 4/20\n",
      "250/250 [==============================] - 0s 1ms/step - loss: 0.0391 - accuracy: 0.9868 - val_loss: 0.0444 - val_accuracy: 0.9860\n",
      "Epoch 5/20\n",
      "250/250 [==============================] - 0s 1ms/step - loss: 0.0363 - accuracy: 0.9875 - val_loss: 0.0427 - val_accuracy: 0.9870\n",
      "Epoch 6/20\n",
      "250/250 [==============================] - 0s 1ms/step - loss: 0.0338 - accuracy: 0.9886 - val_loss: 0.0416 - val_accuracy: 0.9855\n",
      "Epoch 7/20\n",
      "250/250 [==============================] - 0s 1ms/step - loss: 0.0320 - accuracy: 0.9894 - val_loss: 0.0444 - val_accuracy: 0.9875\n",
      "Epoch 8/20\n",
      "250/250 [==============================] - 0s 1ms/step - loss: 0.0310 - accuracy: 0.9895 - val_loss: 0.0451 - val_accuracy: 0.9865\n",
      "Epoch 9/20\n",
      "250/250 [==============================] - 0s 1ms/step - loss: 0.0290 - accuracy: 0.9893 - val_loss: 0.0460 - val_accuracy: 0.9875\n",
      "Epoch 10/20\n",
      "250/250 [==============================] - 0s 1ms/step - loss: 0.0277 - accuracy: 0.9898 - val_loss: 0.0454 - val_accuracy: 0.9875\n",
      "Epoch 11/20\n",
      "250/250 [==============================] - 0s 2ms/step - loss: 0.0266 - accuracy: 0.9906 - val_loss: 0.0447 - val_accuracy: 0.9865\n",
      "Epoch 12/20\n",
      "250/250 [==============================] - 0s 1ms/step - loss: 0.0258 - accuracy: 0.9911 - val_loss: 0.0461 - val_accuracy: 0.9870\n",
      "Epoch 13/20\n",
      "250/250 [==============================] - 0s 1ms/step - loss: 0.0250 - accuracy: 0.9908 - val_loss: 0.0467 - val_accuracy: 0.9870\n",
      "Epoch 14/20\n",
      "250/250 [==============================] - 0s 1ms/step - loss: 0.0232 - accuracy: 0.9919 - val_loss: 0.0452 - val_accuracy: 0.9875\n",
      "Epoch 15/20\n",
      "250/250 [==============================] - 0s 1ms/step - loss: 0.0244 - accuracy: 0.9911 - val_loss: 0.0469 - val_accuracy: 0.9890\n",
      "Epoch 16/20\n",
      "250/250 [==============================] - 0s 1ms/step - loss: 0.0219 - accuracy: 0.9918 - val_loss: 0.0460 - val_accuracy: 0.9890\n",
      "Epoch 17/20\n",
      "250/250 [==============================] - 0s 1ms/step - loss: 0.0212 - accuracy: 0.9916 - val_loss: 0.0495 - val_accuracy: 0.9865\n",
      "Epoch 18/20\n",
      "250/250 [==============================] - 0s 1ms/step - loss: 0.0204 - accuracy: 0.9926 - val_loss: 0.0490 - val_accuracy: 0.9880\n",
      "Epoch 19/20\n",
      "250/250 [==============================] - 0s 2ms/step - loss: 0.0200 - accuracy: 0.9923 - val_loss: 0.0489 - val_accuracy: 0.9880\n",
      "Epoch 20/20\n",
      "250/250 [==============================] - 0s 1ms/step - loss: 0.0195 - accuracy: 0.9931 - val_loss: 0.0493 - val_accuracy: 0.9890\n"
     ]
    }
   ],
   "source": [
    "history = model.fit(X_train, y_train, epochs=20, batch_size=32,\n",
    "                    validation_data=(X_test, y_test))"
   ]
  },
  {
   "cell_type": "code",
   "execution_count": 17,
   "id": "illegal-boundary",
   "metadata": {},
   "outputs": [
    {
     "name": "stdout",
     "output_type": "stream",
     "text": [
      "['loss', 'accuracy']\n",
      "Test score : 0.05\n",
      "Test accuracy : 0.99\n"
     ]
    }
   ],
   "source": [
    "score = model.evaluate(X_test, y_test, verbose=0)\n",
    "\n",
    "print(model.metrics_names)\n",
    "print(\"Test score : {:.2f}\".format(score[0]))\n",
    "print(\"Test accuracy : {:.2f}\".format(score[1]))"
   ]
  },
  {
   "cell_type": "code",
   "execution_count": 18,
   "id": "adolescent-source",
   "metadata": {},
   "outputs": [
    {
     "data": {
      "text/plain": [
       "<matplotlib.legend.Legend at 0x1a970c01490>"
      ]
     },
     "execution_count": 18,
     "metadata": {},
     "output_type": "execute_result"
    },
    {
     "data": {
      "image/png": "[encoded data removed]",
      "text/plain": [
       "<Figure size 864x288 with 2 Axes>"
      ]
     },
     "metadata": {
      "needs_background": "light"
     },
     "output_type": "display_data"
    }
   ],
   "source": [
    "plt.figure(figsize=(12,4))\n",
    "plt.subplot(1, 2, 1)\n",
    "plt.plot(history.history['accuracy'])\n",
    "plt.plot(history.history['val_accuracy'])\n",
    "plt.title('model accuracy')\n",
    "plt.xlabel('epoch')\n",
    "plt.ylabel('accuracy')\n",
    "plt.legend(['train', 'test'])\n",
    "\n",
    "plt.subplot(1, 2, 2)\n",
    "plt.plot(history.history['loss'])\n",
    "plt.plot(history.history['val_loss'])\n",
    "plt.title('model loss')\n",
    "plt.xlabel('epoch')\n",
    "plt.ylabel('loss')\n",
    "plt.legend(['train', 'test'])"
   ]
  },
  {
   "cell_type": "code",
   "execution_count": 19,
   "id": "d69960cc",
   "metadata": {},
   "outputs": [
    {
     "name": "stdout",
     "output_type": "stream",
     "text": [
      "63/63 [==============================] - 0s 515us/step\n"
     ]
    },
    {
     "data": {
      "text/plain": [
       "0.989"
      ]
     },
     "execution_count": 19,
     "metadata": {},
     "output_type": "execute_result"
    }
   ],
   "source": [
    "y_pred = model.predict(X_test) > 0.5\n",
    "\n",
    "accuracy_score(y_test, y_pred)"
   ]
  },
  {
   "cell_type": "markdown",
   "id": "42502af1",
   "metadata": {},
   "source": [
    "## confusion matrix 를 이용한 model 평가"
   ]
  },
  {
   "cell_type": "code",
   "execution_count": 25,
   "id": "3d67238a",
   "metadata": {},
   "outputs": [
    {
     "name": "stdout",
     "output_type": "stream",
     "text": [
      "confution matrix\n",
      " [[1387   12]\n",
      " [  10  591]]\n"
     ]
    },
    {
     "data": {
      "image/png": "[encoded data removed]",
      "text/plain": [
       "<Figure size 360x288 with 2 Axes>"
      ]
     },
     "metadata": {
      "needs_background": "light"
     },
     "output_type": "display_data"
    }
   ],
   "source": [
    "cm  = confusion_matrix(y_test, y_pred)\n",
    "\n",
    "print(\"confution matrix\\n\", cm)\n",
    "\n",
    "plt.figure(figsize=(5,4))\n",
    "\n",
    "ax = sns.heatmap(cm, annot=True, fmt='d')\n",
    "ax.set_ylabel('Predicted')\n",
    "ax.set_title('Confusion Matirx\\nGround Truth')\n",
    "None"
   ]
  },
  {
   "cell_type": "code",
   "execution_count": null,
   "id": "bc42c499",
   "metadata": {},
   "outputs": [],
   "source": []
  }
 ],
 "metadata": {
  "kernelspec": {
   "display_name": "Python 3 (ipykernel)",
   "language": "python",
   "name": "python3"
  },
  "language_info": {
   "codemirror_mode": {
    "name": "ipython",
    "version": 3
   },
   "file_extension": ".py",
   "mimetype": "text/x-python",
   "name": "python",
   "nbconvert_exporter": "python",
   "pygments_lexer": "ipython3",
   "version": "3.8.13"
  }
 },
 "nbformat": 4,
 "nbformat_minor": 5
}
