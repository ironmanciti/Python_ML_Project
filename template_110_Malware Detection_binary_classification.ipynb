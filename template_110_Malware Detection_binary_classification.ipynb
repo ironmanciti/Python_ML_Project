{
 "cells": [
  {
   "cell_type": "markdown",
   "id": "diverse-links",
   "metadata": {},
   "source": [
    "# 110. Malware Detection - binary classification"
   ]
  },
  {
   "cell_type": "markdown",
   "id": "casual-snapshot",
   "metadata": {},
   "source": [
    "## Data pre-processing and feature selection\n",
    "\n",
    "- Name : 제외\n",
    "- md5 : hash value 제외"
   ]
  },
  {
   "cell_type": "markdown",
   "id": "7559dcaf",
   "metadata": {},
   "source": [
    "### Train/Test dataset 분리"
   ]
  },
  {
   "cell_type": "markdown",
   "id": "84bbddcc",
   "metadata": {},
   "source": [
    "### feature scaling"
   ]
  },
  {
   "cell_type": "markdown",
   "id": "cb4e5ac9",
   "metadata": {},
   "source": [
    "### model build"
   ]
  },
  {
   "cell_type": "markdown",
   "id": "a5177b6e",
   "metadata": {},
   "source": [
    "### Train the model"
   ]
  },
  {
   "cell_type": "markdown",
   "id": "42502af1",
   "metadata": {},
   "source": [
    "## confusion matrix 를 이용한 model 평가"
   ]
  },
  {
   "cell_type": "markdown",
   "id": "b941fe23",
   "metadata": {},
   "source": [
    "# 실습 \n",
    "\n",
    "### 통신회사의 고객 이탈 여부를 logistic regression 으로 예측"
   ]
  },
  {
   "cell_type": "markdown",
   "id": "48b977b8",
   "metadata": {},
   "source": [
    "## Data pre-processing and feature selection\n",
    "\n",
    "개별 feature 에 대한 분석 후(본 과정에서는 생략)에 Logistic Regression 에 사용할 feature 선정\n",
    "\n",
    "tenure(가입기간), age (연령), income(수입) 으로 예측하고 churn (이탈여부) 은 integer 로 type 변경"
   ]
  },
  {
   "cell_type": "markdown",
   "id": "be34257b",
   "metadata": {},
   "source": [
    "### feature scaling"
   ]
  },
  {
   "cell_type": "markdown",
   "id": "b886092a",
   "metadata": {},
   "source": [
    "### Train/Test dataset 분리"
   ]
  },
  {
   "cell_type": "markdown",
   "id": "29a6d538",
   "metadata": {},
   "source": [
    "### model 작성"
   ]
  },
  {
   "cell_type": "markdown",
   "id": "e1a96b7d",
   "metadata": {},
   "source": [
    "### train the model"
   ]
  },
  {
   "cell_type": "markdown",
   "id": "2d148841",
   "metadata": {},
   "source": [
    "### prediction"
   ]
  },
  {
   "cell_type": "markdown",
   "id": "8096788d",
   "metadata": {},
   "source": [
    "### confusion matrix 작성"
   ]
  }
 ],
 "metadata": {
  "kernelspec": {
   "display_name": "Python 3 (ipykernel)",
   "language": "python",
   "name": "python3"
  },
  "language_info": {
   "codemirror_mode": {
    "name": "ipython",
    "version": 3
   },
   "file_extension": ".py",
   "mimetype": "text/x-python",
   "name": "python",
   "nbconvert_exporter": "python",
   "pygments_lexer": "ipython3",
   "version": "3.8.13"
  }
 },
 "nbformat": 4,
 "nbformat_minor": 5
}
